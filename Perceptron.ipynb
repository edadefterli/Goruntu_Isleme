{
 "cells": [
  {
   "cell_type": "code",
   "execution_count": 2,
   "metadata": {},
   "outputs": [],
   "source": [
    "import numpy as np"
   ]
  },
  {
   "cell_type": "code",
   "execution_count": 3,
   "metadata": {},
   "outputs": [],
   "source": [
    "class Perceptron(object):\n",
    "    \n",
    "    def __init__(self,input_size,lr=1,epochs=10):\n",
    "        self.W=np.zeros(input_size+1)\n",
    "        self.epochs=epochs\n",
    "        self.lr=lr\n",
    "        \n",
    "    def activation_fn(self, x):\n",
    "        return 1 if x>=0 else 0\n",
    "    \n",
    "    def predict(self,x):\n",
    "        x=np.insert(x,0,1)\n",
    "        z=self.W.T.dot(x)\n",
    "        a=self.activation_fn(z)\n",
    "        return a\n",
    "    \n",
    "    def fit(self,X,d):\n",
    "        for _ in range(self.epochs):\n",
    "            for i in range(d.shape[0]):\n",
    "                y=self.predict(X[i])\n",
    "                e=d[i]-y\n",
    "                self.W=self.W + self.lr * e * np.insert(X[i],0,1)\n",
    "                "
   ]
  },
  {
   "cell_type": "code",
   "execution_count": 4,
   "metadata": {},
   "outputs": [],
   "source": [
    "X=np.array([\n",
    "    [0,0],\n",
    "    [0,1],\n",
    "    [1,0],\n",
    "    [1,1]\n",
    "])"
   ]
  },
  {
   "cell_type": "code",
   "execution_count": 5,
   "metadata": {},
   "outputs": [],
   "source": [
    "d=np.array([0,0,0,1])"
   ]
  },
  {
   "cell_type": "code",
   "execution_count": 6,
   "metadata": {},
   "outputs": [],
   "source": [
    "perceptron=Perceptron(input_size=2)"
   ]
  },
  {
   "cell_type": "code",
   "execution_count": 7,
   "metadata": {},
   "outputs": [
    {
     "data": {
      "text/plain": [
       "array([0., 0., 0.])"
      ]
     },
     "execution_count": 7,
     "metadata": {},
     "output_type": "execute_result"
    }
   ],
   "source": [
    "perceptron.W"
   ]
  },
  {
   "cell_type": "code",
   "execution_count": 8,
   "metadata": {},
   "outputs": [
    {
     "data": {
      "text/plain": [
       "array([-3.,  2.,  1.])"
      ]
     },
     "execution_count": 8,
     "metadata": {},
     "output_type": "execute_result"
    }
   ],
   "source": [
    "perceptron.fit(X,d)\n",
    "perceptron.W"
   ]
  },
  {
   "cell_type": "code",
   "execution_count": 9,
   "metadata": {},
   "outputs": [
    {
     "data": {
      "text/plain": [
       "0"
      ]
     },
     "execution_count": 9,
     "metadata": {},
     "output_type": "execute_result"
    }
   ],
   "source": [
    "perceptron.predict(np.asarray([0,0]))"
   ]
  },
  {
   "cell_type": "code",
   "execution_count": 10,
   "metadata": {},
   "outputs": [
    {
     "data": {
      "text/plain": [
       "array([0., 0., 0., 0., 0., 0.])"
      ]
     },
     "execution_count": 10,
     "metadata": {},
     "output_type": "execute_result"
    }
   ],
   "source": [
    "mp=Perceptron(5)\n",
    "mp.W"
   ]
  },
  {
   "cell_type": "code",
   "execution_count": 23,
   "metadata": {},
   "outputs": [
    {
     "data": {
      "text/plain": [
       "0"
      ]
     },
     "execution_count": 23,
     "metadata": {},
     "output_type": "execute_result"
    }
   ],
   "source": [
    "mp.activation_fn(-10)"
   ]
  },
  {
   "cell_type": "markdown",
   "metadata": {},
   "source": [
    "### ÖDEV "
   ]
  },
  {
   "cell_type": "markdown",
   "metadata": {},
   "source": [
    "1.soru:\n",
    "\n",
    "activation-fn fonksiyonu : Activation fonksiyonudur. Gelen input(yani\n",
    "x ve w'lerin çarpımlarının toplamı) 0 dan büyükse +1, 0 dan küçükse -1 döndürür.\n",
    "\n",
    "predict fonksiyonu : Input vektörünün başına 1 değerini ekliyip daha sonra bu değerin \n",
    "skaler çarpımını hesaplar. Bu değeri aktivasyon fonksiyonuna gönderip gelen değeri döndürür.\n",
    "\n",
    "fit fonksiyonu : Bir error değeri bulup, W değerini günceller. Bu işlemi error 0 olana kadar veya 100 step yapana kadar çalıştırabiliriz. Böylece deep learning yapmış oluruz."
   ]
  },
  {
   "cell_type": "markdown",
   "metadata": {},
   "source": [
    "2.soru:"
   ]
  },
  {
   "cell_type": "code",
   "execution_count": 11,
   "metadata": {},
   "outputs": [],
   "source": [
    "X2 = np.array([\n",
    "        [0, 0],\n",
    "        [0, 1],\n",
    "        [1, 0],\n",
    "        [1, 1]\n",
    "    ])"
   ]
  },
  {
   "cell_type": "code",
   "execution_count": 13,
   "metadata": {},
   "outputs": [],
   "source": [
    "d2 = np.array([0, 1, 1, 0])  #XOR kapısı"
   ]
  },
  {
   "cell_type": "code",
   "execution_count": 14,
   "metadata": {},
   "outputs": [],
   "source": [
    "perceptron2=Perceptron(input_size=2)"
   ]
  },
  {
   "cell_type": "code",
   "execution_count": 15,
   "metadata": {},
   "outputs": [
    {
     "data": {
      "text/plain": [
       "array([0., 0., 0.])"
      ]
     },
     "execution_count": 15,
     "metadata": {},
     "output_type": "execute_result"
    }
   ],
   "source": [
    "perceptron2.W"
   ]
  },
  {
   "cell_type": "code",
   "execution_count": 16,
   "metadata": {},
   "outputs": [
    {
     "data": {
      "text/plain": [
       "array([ 0., -1.,  0.])"
      ]
     },
     "execution_count": 16,
     "metadata": {},
     "output_type": "execute_result"
    }
   ],
   "source": [
    "perceptron2.fit(X,d)\n",
    "perceptron2.W"
   ]
  },
  {
   "cell_type": "markdown",
   "metadata": {},
   "source": [
    "3.soru:\n",
    "\n",
    "Yükseklik ve genişlik değerleri m,n ise mxnx3 boyutunda bir verimiz olur. Bu veriyi vektör olarak düşünürsek image.reshape(m*n*3,1) diyip bu değeri sutun vektör ile gösteriyoruz. 40 imza için input değerimiz(X) (m*n*3,40)'lık\n",
    "matrix olur. Çıktı(d) ise 40 farklı değer olur. Fakat perceptron bunu tanıma yeteneğine sahip değildir."
   ]
  },
  {
   "cell_type": "markdown",
   "metadata": {},
   "source": [
    "4.soru:\n",
    "\n",
    "Perceptron'da XOR kapısı için grafik oluşturduğumuzda 1 ve 0'ları tek bir doğrusal doğru ile ayırmamız mümkün değildir. Bu durum perceptron'un bir eksikliğidir. Bu grafiği 2'ye bölüp önce bir kısmını tek bir doğrusal doğru ile ayırıp perceptron uygularız daha sonra diğer kısmını tek bir doğrusal doğru ile ayırıp perceptron uygulabiliriz. Böylece peş peşe perceptron uygulayarak XOR'da oluşan bu sorunu çözebiliriz."
   ]
  }
 ],
 "metadata": {
  "kernelspec": {
   "display_name": "Python 3",
   "language": "python",
   "name": "python3"
  },
  "language_info": {
   "codemirror_mode": {
    "name": "ipython",
    "version": 3
   },
   "file_extension": ".py",
   "mimetype": "text/x-python",
   "name": "python",
   "nbconvert_exporter": "python",
   "pygments_lexer": "ipython3",
   "version": "3.8.3"
  }
 },
 "nbformat": 4,
 "nbformat_minor": 4
}
